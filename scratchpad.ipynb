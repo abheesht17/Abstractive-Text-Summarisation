{
  "nbformat": 4,
  "nbformat_minor": 0,
  "metadata": {
    "colab": {
      "name": "scratchpad",
      "provenance": [],
      "include_colab_link": true
    },
    "kernelspec": {
      "display_name": "Python 3",
      "name": "python3"
    }
  },
  "cells": [
    {
      "cell_type": "markdown",
      "metadata": {
        "id": "view-in-github",
        "colab_type": "text"
      },
      "source": [
        "<a href=\"https://colab.research.google.com/github/abheesht17/Abstractive-Text-Summarisation/blob/master/scratchpad.ipynb\" target=\"_parent\"><img src=\"https://colab.research.google.com/assets/colab-badge.svg\" alt=\"Open In Colab\"/></a>"
      ]
    },
    {
      "metadata": {
        "id": "lIYdn1woOS1n"
      },
      "cell_type": "markdown",
      "source": [
        "# Hello"
      ]
    },
    {
      "metadata": {
        "id": "ykldCVAWT0Xl",
        "colab": {
          "base_uri": "https://localhost:8080/"
        },
        "outputId": "89f51b56-9a38-48b2-f169-fa12664c5c5d"
      },
      "cell_type": "code",
      "source": [
        "!git clone https://github.com/keras-team/keras-hub.git"
      ],
      "execution_count": 1,
      "outputs": [
        {
          "output_type": "stream",
          "name": "stdout",
          "text": [
            "Cloning into 'keras-hub'...\n",
            "remote: Enumerating objects: 18813, done.\u001b[K\n",
            "remote: Counting objects: 100% (349/349), done.\u001b[K\n",
            "remote: Compressing objects: 100% (239/239), done.\u001b[K\n",
            "remote: Total 18813 (delta 225), reused 113 (delta 110), pack-reused 18464 (from 4)\u001b[K\n",
            "Receiving objects: 100% (18813/18813), 7.27 MiB | 9.66 MiB/s, done.\n",
            "Resolving deltas: 100% (15040/15040), done.\n"
          ]
        }
      ]
    },
    {
      "cell_type": "code",
      "source": [
        "%cd /content/keras-hub\n",
        "!pip uninstall -q -y keras-nlp\n",
        "!pip install -q -e ."
      ],
      "metadata": {
        "id": "vIW-auksh9we",
        "outputId": "5ad3899e-df90-40f5-bf67-20ef02295b80",
        "colab": {
          "base_uri": "https://localhost:8080/"
        }
      },
      "execution_count": 4,
      "outputs": [
        {
          "output_type": "stream",
          "name": "stdout",
          "text": [
            "/content/keras-hub\n"
          ]
        }
      ]
    },
    {
      "cell_type": "code",
      "source": [],
      "metadata": {
        "id": "oNJMcoD0i4UV",
        "outputId": "668406ba-deb9-4b53-f791-4a3fb5ad8399",
        "colab": {
          "base_uri": "https://localhost:8080/"
        }
      },
      "execution_count": 5,
      "outputs": [
        {
          "output_type": "stream",
          "name": "stdout",
          "text": [
            "  Installing build dependencies ... \u001b[?25l\u001b[?25hdone\n",
            "  Checking if build backend supports build_editable ... \u001b[?25l\u001b[?25hdone\n",
            "  Getting requirements to build editable ... \u001b[?25l\u001b[?25hdone\n",
            "  Preparing editable metadata (pyproject.toml) ... \u001b[?25l\u001b[?25hdone\n",
            "  Building editable for keras-hub (pyproject.toml) ... \u001b[?25l\u001b[?25hdone\n"
          ]
        }
      ]
    },
    {
      "cell_type": "code",
      "source": [],
      "metadata": {
        "id": "BTwdPu-5i5ta"
      },
      "execution_count": null,
      "outputs": []
    }
  ]
}